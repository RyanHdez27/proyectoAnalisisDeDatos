{
  "nbformat": 4,
  "nbformat_minor": 0,
  "metadata": {
    "colab": {
      "provenance": [],
      "include_colab_link": true
    },
    "kernelspec": {
      "name": "python3",
      "display_name": "Python 3"
    },
    "language_info": {
      "name": "python"
    }
  },
  "cells": [
    {
      "cell_type": "markdown",
      "metadata": {
        "id": "view-in-github",
        "colab_type": "text"
      },
      "source": [
        "<a href=\"https://colab.research.google.com/github/RyanHdez27/proyectoAnalisisDeDatos/blob/main/TrabajoBussinesAnalityc.ipynb\" target=\"_parent\"><img src=\"https://colab.research.google.com/assets/colab-badge.svg\" alt=\"Open In Colab\"/></a>"
      ]
    },
    {
      "cell_type": "code",
      "source": [
        "\n",
        "import pandas as pd\n",
        "import numpy as np\n",
        "import torch\n",
        "from torch import nn\n",
        "from torch.utils.data import TensorDataset, DataLoader, random_split\n",
        "from sklearn.compose import ColumnTransformer\n",
        "from sklearn.pipeline import Pipeline\n",
        "from sklearn.preprocessing import OneHotEncoder, StandardScaler\n",
        "from sklearn.impute import SimpleImputer\n",
        "from sklearn.cluster import KMeans\n",
        "from sklearn.metrics import silhouette_score\n",
        "from sklearn.decomposition import PCA\n",
        "import matplotlib.pyplot as plt\n",
        "\n",
        "\n",
        "# 0) Cargar y preparar datos\n",
        "\n",
        "df = pd.read_csv(\"Salary_Data.csv\")\n",
        "\n",
        "num_cols = [\"Age\", \"Years of Experience\", \"Salary\"]\n",
        "cat_cols = [\"Gender\", \"Education Level\", \"Job Title\"]\n",
        "num_cols = [c for c in num_cols if c in df.columns]\n",
        "cat_cols = [c for c in cat_cols if c in df.columns]\n",
        "\n",
        "X = df[num_cols + cat_cols].copy()\n",
        "\n",
        "num_tf = Pipeline([\n",
        "    (\"imputer\", SimpleImputer(strategy=\"median\")),\n",
        "    (\"scaler\", StandardScaler())\n",
        "])\n",
        "cat_tf = Pipeline([\n",
        "    (\"imputer\", SimpleImputer(strategy=\"most_frequent\")),\n",
        "    (\"onehot\", OneHotEncoder(handle_unknown=\"ignore\"))\n",
        "])\n",
        "preprocess = ColumnTransformer([\n",
        "    (\"num\", num_tf, num_cols),\n",
        "    (\"cat\", cat_tf, cat_cols)\n",
        "])\n",
        "\n",
        "X_pre = preprocess.fit_transform(X)\n",
        "if hasattr(X_pre, \"toarray\"):\n",
        "    X_pre = X_pre.toarray()\n",
        "\n",
        "\n",
        "# 1) Definir Autoencoder\n",
        "\n",
        "device = \"cuda\" if torch.cuda.is_available() else \"cpu\"\n",
        "X_t = torch.tensor(X_pre, dtype=torch.float32)\n",
        "\n",
        "class SimpleAE(nn.Module):\n",
        "    def __init__(self, in_dim, latent_dim=8):\n",
        "        super().__init__()\n",
        "        self.encoder = nn.Sequential(\n",
        "            nn.Linear(in_dim, 32),\n",
        "            nn.ReLU(),\n",
        "            nn.Linear(32, latent_dim)\n",
        "        )\n",
        "        self.decoder = nn.Sequential(\n",
        "            nn.Linear(latent_dim, 32),\n",
        "            nn.ReLU(),\n",
        "            nn.Linear(32, in_dim)\n",
        "        )\n",
        "    def forward(self, x):\n",
        "        z = self.encoder(x)\n",
        "        x_hat = self.decoder(z)\n",
        "        return x_hat, z\n",
        "\n",
        "\n",
        "# 2) Entrenamiento con early stopping sencillo\n",
        "\n",
        "def train_autoencoder(X_tensor, latent_dim=8, epochs=200, batch_size=64, lr=1e-3, patience=15):\n",
        "    in_dim = X_tensor.shape[1]\n",
        "    dataset = TensorDataset(X_tensor)\n",
        "\n",
        "    n_total = len(dataset)\n",
        "    n_val = max(1, int(0.1 * n_total))\n",
        "    n_train = n_total - n_val\n",
        "    train_ds, val_ds = random_split(dataset, [n_train, n_val], generator=torch.Generator().manual_seed(42))\n",
        "\n",
        "    train_loader = DataLoader(train_ds, batch_size=batch_size, shuffle=True)\n",
        "    val_loader = DataLoader(val_ds, batch_size=batch_size, shuffle=False)\n",
        "\n",
        "    model = SimpleAE(in_dim, latent_dim).to(device)\n",
        "    opt = torch.optim.Adam(model.parameters(), lr=lr)\n",
        "    crit = nn.MSELoss()\n",
        "\n",
        "    best_val = float(\"inf\")\n",
        "    wait = 0\n",
        "    best_state = None\n",
        "\n",
        "    for ep in range(1, epochs+1):\n",
        "        # train\n",
        "        model.train()\n",
        "        total = 0.0\n",
        "        for (xb,) in train_loader:\n",
        "            xb = xb.to(device)\n",
        "            opt.zero_grad()\n",
        "            x_hat, _ = model(xb)\n",
        "            loss = crit(x_hat, xb)\n",
        "            loss.backward()\n",
        "            opt.step()\n",
        "            total += loss.item() * xb.size(0)\n",
        "        train_loss = total / len(train_ds)\n",
        "\n",
        "        # val\n",
        "        model.eval()\n",
        "        vtotal = 0.0\n",
        "        with torch.no_grad():\n",
        "            for (xb,) in val_loader:\n",
        "                xb = xb.to(device)\n",
        "                x_hat, _ = model(xb)\n",
        "                vloss = crit(x_hat, xb)\n",
        "                vtotal += vloss.item() * xb.size(0)\n",
        "        val_loss = vtotal / len(val_ds)\n",
        "\n",
        "        if ep % 10 == 0:\n",
        "            print(f\"Epoch {ep:03d} | train {train_loss:.4f} | val {val_loss:.4f}\")\n",
        "\n",
        "        # early stopping\n",
        "        if val_loss < best_val - 1e-6:\n",
        "            best_val = val_loss\n",
        "            wait = 0\n",
        "            best_state = {k: v.cpu().clone() for k, v in model.state_dict().items()}\n",
        "        else:\n",
        "            wait += 1\n",
        "            if wait >= patience:\n",
        "                print(f\"Early stopping en epoch {ep} (mejor val {best_val:.4f})\")\n",
        "                break\n",
        "\n",
        "    if best_state is not None:\n",
        "        model.load_state_dict(best_state)\n",
        "    return model\n",
        "\n",
        "model = train_autoencoder(X_t, latent_dim=8, epochs=200, batch_size=64, lr=1e-3, patience=15)\n",
        "\n",
        "\n",
        "# 3) Embedding latente\n",
        "\n",
        "model.eval()\n",
        "with torch.no_grad():\n",
        "    Z = model.encoder(X_t.to(device)).cpu().numpy()\n",
        "\n",
        "\n",
        "# 4) Elegir k con silhouette\n",
        "\n",
        "def select_k_and_cluster(Z, k_min=2, k_max=6, random_state=42):\n",
        "    best_k, best_sil, best_labels, best_km = None, -1, None, None\n",
        "    for k in range(k_min, k_max+1):\n",
        "        km = KMeans(n_clusters=k, random_state=random_state, n_init=10)\n",
        "        labels = km.fit_predict(Z)\n",
        "        s = silhouette_score(Z, labels)\n",
        "        print(f\"k={k} | silhouette={s:.3f}\")\n",
        "        if s > best_sil:\n",
        "            best_k, best_sil, best_labels, best_km = k, s, labels, km\n",
        "    return best_k, best_sil, best_labels, best_km\n",
        "\n",
        "best_k, best_sil, labels_nn, km = select_k_and_cluster(Z, 2, 6)\n",
        "print(f\"Mejor k={best_k} con silhouette={best_sil:.3f}\")\n",
        "\n",
        "df[\"Cluster_NN\"] = labels_nn\n",
        "\n",
        "\n",
        "# 5) Visualización 2D (PCA)\n",
        "\n",
        "Z2 = PCA(n_components=2, random_state=42).fit_transform(Z)\n",
        "plt.figure()\n",
        "plt.scatter(Z2[:, 0], Z2[:, 1], c=labels_nn, s=50)\n",
        "plt.title(f\"Clusters en espacio latente (AE + KMeans, k={best_k})\")\n",
        "plt.xlabel(\"PC1\"); plt.ylabel(\"PC2\")\n",
        "plt.show()\n",
        "\n",
        "# 6) Perfilado por clúster\n",
        "\n",
        "def moda_serie(s):\n",
        "    m = s.mode(dropna=True)\n",
        "    return m.iloc[0] if not m.empty else np.nan\n",
        "\n",
        "resumen_num = df.groupby(\"Cluster_NN\")[num_cols].mean().round(2) if num_cols else pd.DataFrame()\n",
        "resumen_cat = df.groupby(\"Cluster_NN\")[cat_cols].agg(moda_serie) if cat_cols else pd.DataFrame()\n",
        "perfil_nn = resumen_num.join(resumen_cat, how=\"outer\")\n",
        "perfil_nn[\"Conteo\"] = df.groupby(\"Cluster_NN\").size()\n",
        "print(\"\\nPerfil (AE + KMeans):\\n\", perfil_nn)\n",
        "\n"
      ],
      "metadata": {
        "id": "BaE5h1x6V6ai",
        "outputId": "ea9cf368-951f-4f2b-da76-58297f1a464e",
        "colab": {
          "base_uri": "https://localhost:8080/",
          "height": 1000
        }
      },
      "execution_count": null,
      "outputs": [
        {
          "metadata": {
            "tags": null
          },
          "name": "stdout",
          "output_type": "stream",
          "text": [
            "Epoch 010 | train 0.0042 | val 0.0041\n"
          ]
        },
        {
          "metadata": {
            "tags": null
          },
          "name": "stderr",
          "output_type": "stream",
          "text": [
            "/usr/local/lib/python3.12/dist-packages/jupyter_client/session.py:203: DeprecationWarning: datetime.datetime.utcnow() is deprecated and scheduled for removal in a future version. Use timezone-aware objects to represent datetimes in UTC: datetime.datetime.now(datetime.UTC).\n",
            "  return datetime.utcnow().replace(tzinfo=utc)\n"
          ]
        },
        {
          "metadata": {
            "tags": null
          },
          "name": "stdout",
          "output_type": "stream",
          "text": [
            "Epoch 020 | train 0.0034 | val 0.0034\n",
            "Epoch 030 | train 0.0030 | val 0.0030\n",
            "Epoch 040 | train 0.0028 | val 0.0028\n",
            "Epoch 050 | train 0.0027 | val 0.0026\n",
            "Epoch 060 | train 0.0025 | val 0.0025\n",
            "Epoch 070 | train 0.0025 | val 0.0024\n",
            "Epoch 080 | train 0.0024 | val 0.0024\n",
            "Epoch 090 | train 0.0024 | val 0.0023\n",
            "Epoch 100 | train 0.0023 | val 0.0023\n",
            "Epoch 110 | train 0.0023 | val 0.0022\n",
            "Epoch 120 | train 0.0022 | val 0.0022\n",
            "Epoch 130 | train 0.0022 | val 0.0021\n",
            "Epoch 140 | train 0.0021 | val 0.0021\n",
            "Epoch 150 | train 0.0021 | val 0.0021\n",
            "Epoch 160 | train 0.0021 | val 0.0021\n",
            "Epoch 170 | train 0.0021 | val 0.0020\n",
            "Epoch 180 | train 0.0020 | val 0.0020\n",
            "Epoch 190 | train 0.0020 | val 0.0020\n",
            "Epoch 200 | train 0.0020 | val 0.0020\n"
          ]
        },
        {
          "metadata": {
            "tags": null
          },
          "name": "stderr",
          "output_type": "stream",
          "text": [
            "/usr/local/lib/python3.12/dist-packages/jupyter_client/session.py:203: DeprecationWarning: datetime.datetime.utcnow() is deprecated and scheduled for removal in a future version. Use timezone-aware objects to represent datetimes in UTC: datetime.datetime.now(datetime.UTC).\n",
            "  return datetime.utcnow().replace(tzinfo=utc)\n"
          ]
        },
        {
          "metadata": {
            "tags": null
          },
          "name": "stdout",
          "output_type": "stream",
          "text": [
            "k=2 | silhouette=0.306\n"
          ]
        },
        {
          "metadata": {
            "tags": null
          },
          "name": "stderr",
          "output_type": "stream",
          "text": [
            "/usr/local/lib/python3.12/dist-packages/jupyter_client/session.py:203: DeprecationWarning: datetime.datetime.utcnow() is deprecated and scheduled for removal in a future version. Use timezone-aware objects to represent datetimes in UTC: datetime.datetime.now(datetime.UTC).\n",
            "  return datetime.utcnow().replace(tzinfo=utc)\n"
          ]
        },
        {
          "metadata": {
            "tags": null
          },
          "name": "stdout",
          "output_type": "stream",
          "text": [
            "k=3 | silhouette=0.371\n"
          ]
        },
        {
          "metadata": {
            "tags": null
          },
          "name": "stderr",
          "output_type": "stream",
          "text": [
            "/usr/local/lib/python3.12/dist-packages/jupyter_client/session.py:203: DeprecationWarning: datetime.datetime.utcnow() is deprecated and scheduled for removal in a future version. Use timezone-aware objects to represent datetimes in UTC: datetime.datetime.now(datetime.UTC).\n",
            "  return datetime.utcnow().replace(tzinfo=utc)\n"
          ]
        },
        {
          "output_type": "stream",
          "name": "stdout",
          "text": [
            "k=4 | silhouette=0.391\n"
          ]
        },
        {
          "output_type": "stream",
          "name": "stderr",
          "text": [
            "/usr/local/lib/python3.12/dist-packages/jupyter_client/session.py:203: DeprecationWarning: datetime.datetime.utcnow() is deprecated and scheduled for removal in a future version. Use timezone-aware objects to represent datetimes in UTC: datetime.datetime.now(datetime.UTC).\n",
            "  return datetime.utcnow().replace(tzinfo=utc)\n"
          ]
        },
        {
          "output_type": "stream",
          "name": "stdout",
          "text": [
            "k=5 | silhouette=0.387\n"
          ]
        },
        {
          "output_type": "stream",
          "name": "stderr",
          "text": [
            "/usr/local/lib/python3.12/dist-packages/jupyter_client/session.py:203: DeprecationWarning: datetime.datetime.utcnow() is deprecated and scheduled for removal in a future version. Use timezone-aware objects to represent datetimes in UTC: datetime.datetime.now(datetime.UTC).\n",
            "  return datetime.utcnow().replace(tzinfo=utc)\n"
          ]
        },
        {
          "output_type": "stream",
          "name": "stdout",
          "text": [
            "k=6 | silhouette=0.369\n",
            "Mejor k=4 con silhouette=0.391\n"
          ]
        },
        {
          "output_type": "stream",
          "name": "stderr",
          "text": [
            "/usr/local/lib/python3.12/dist-packages/jupyter_client/session.py:203: DeprecationWarning: datetime.datetime.utcnow() is deprecated and scheduled for removal in a future version. Use timezone-aware objects to represent datetimes in UTC: datetime.datetime.now(datetime.UTC).\n",
            "  return datetime.utcnow().replace(tzinfo=utc)\n"
          ]
        },
        {
          "output_type": "display_data",
          "data": {
            "text/plain": [
              "<Figure size 640x480 with 1 Axes>"
            ],
            "image/png": "[encoded data removed]"
          },
          "metadata": {}
        },
        {
          "output_type": "stream",
          "name": "stdout",
          "text": [
            "\n",
            "Perfil (AE + KMeans):\n",
            "               Age  Years of Experience     Salary Gender    Education Level  \\\n",
            "Cluster_NN                                                                    \n",
            "0           38.40                11.99  148279.43   Male                PhD   \n",
            "1           31.92                 6.67  100917.85   Male  Bachelor's Degree   \n",
            "2           27.93                 3.75   90631.71   Male         Bachelor's   \n",
            "3           29.00                 4.18   85013.24   Male  Bachelor's Degree   \n",
            "\n",
            "                      Job Title  Conteo  \n",
            "Cluster_NN                               \n",
            "0                Data Scientist    2258  \n",
            "1             Software Engineer    3568  \n",
            "2                  Data Analyst     640  \n",
            "3           Front end Developer     238  \n"
          ]
        },
        {
          "output_type": "stream",
          "name": "stderr",
          "text": [
            "/usr/local/lib/python3.12/dist-packages/jupyter_client/session.py:203: DeprecationWarning: datetime.datetime.utcnow() is deprecated and scheduled for removal in a future version. Use timezone-aware objects to represent datetimes in UTC: datetime.datetime.now(datetime.UTC).\n",
            "  return datetime.utcnow().replace(tzinfo=utc)\n"
          ]
        }
      ]
    }
  ]
}